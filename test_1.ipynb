{
 "cells": [
  {
   "cell_type": "code",
   "execution_count": 32,
   "id": "193396d1-f719-4c47-8730-32926253790c",
   "metadata": {},
   "outputs": [],
   "source": [
    "import numpy as np\n",
    "import tensorflow as tf\n",
    "import tensorflow_datasets as tfds\n",
    "from tensorflow import keras\n",
    "import re\n",
    "import tiktoken # BPE"
   ]
  },
  {
   "cell_type": "code",
   "execution_count": 3,
   "id": "280a135d-4d41-45fb-8787-0b2b10a3d292",
   "metadata": {},
   "outputs": [
    {
     "name": "stderr",
     "output_type": "stream",
     "text": [
      "WARNING: All log messages before absl::InitializeLog() is called are written to STDERR\n",
      "I0000 00:00:1739134947.135962    9029 cuda_executor.cc:1001] could not open file to read NUMA node: /sys/bus/pci/devices/0000:01:00.0/numa_node\n",
      "Your kernel may have been built without NUMA support.\n",
      "I0000 00:00:1739134948.165579    9029 cuda_executor.cc:1001] could not open file to read NUMA node: /sys/bus/pci/devices/0000:01:00.0/numa_node\n",
      "Your kernel may have been built without NUMA support.\n",
      "I0000 00:00:1739134948.166102    9029 cuda_executor.cc:1001] could not open file to read NUMA node: /sys/bus/pci/devices/0000:01:00.0/numa_node\n",
      "Your kernel may have been built without NUMA support.\n",
      "I0000 00:00:1739134948.222348    9029 cuda_executor.cc:1001] could not open file to read NUMA node: /sys/bus/pci/devices/0000:01:00.0/numa_node\n",
      "Your kernel may have been built without NUMA support.\n",
      "I0000 00:00:1739134948.222528    9029 cuda_executor.cc:1001] could not open file to read NUMA node: /sys/bus/pci/devices/0000:01:00.0/numa_node\n",
      "Your kernel may have been built without NUMA support.\n",
      "I0000 00:00:1739134948.222570    9029 cuda_executor.cc:1001] could not open file to read NUMA node: /sys/bus/pci/devices/0000:01:00.0/numa_node\n",
      "Your kernel may have been built without NUMA support.\n",
      "I0000 00:00:1739134949.716408    9029 cuda_executor.cc:1001] could not open file to read NUMA node: /sys/bus/pci/devices/0000:01:00.0/numa_node\n",
      "Your kernel may have been built without NUMA support.\n",
      "I0000 00:00:1739134949.717036    9029 cuda_executor.cc:1001] could not open file to read NUMA node: /sys/bus/pci/devices/0000:01:00.0/numa_node\n",
      "Your kernel may have been built without NUMA support.\n",
      "2025-02-09 21:02:29.717147: I tensorflow/core/common_runtime/gpu/gpu_device.cc:2112] Could not identify NUMA node of platform GPU id 0, defaulting to 0.  Your kernel may not have been built with NUMA support.\n",
      "I0000 00:00:1739134949.717625    9029 cuda_executor.cc:1001] could not open file to read NUMA node: /sys/bus/pci/devices/0000:01:00.0/numa_node\n",
      "Your kernel may have been built without NUMA support.\n",
      "2025-02-09 21:02:29.721306: I tensorflow/core/common_runtime/gpu/gpu_device.cc:2021] Created device /job:localhost/replica:0/task:0/device:GPU:0 with 5563 MB memory:  -> device: 0, name: NVIDIA GeForce RTX 4060 Laptop GPU, pci bus id: 0000:01:00.0, compute capability: 8.9\n",
      "2025-02-09 21:02:31.920716: I tensorflow/core/framework/local_rendezvous.cc:404] Local rendezvous is aborting with status: OUT_OF_RANGE: End of sequence\n"
     ]
    },
    {
     "data": {
      "text/plain": [
       "1003854"
      ]
     },
     "execution_count": 3,
     "metadata": {},
     "output_type": "execute_result"
    }
   ],
   "source": [
    "dataset = tfds.load(name='tiny_shakespeare')\n",
    "\n",
    "train = dataset['train']\n",
    "for text in train:\n",
    "    x = text['text'].numpy().decode('utf-8')\n",
    "len(x)"
   ]
  },
  {
   "cell_type": "code",
   "execution_count": 24,
   "id": "b3901bed-9d89-4b7e-b0f7-79750a6afba0",
   "metadata": {},
   "outputs": [
    {
     "name": "stdout",
     "output_type": "stream",
     "text": [
      "['First', ' ', 'Citizen', ':', '', '\\n', 'Before', ' ', 'we', ' ', 'proceed', ' ', 'any', ' ', 'further', ',', '', ' ', 'hear', ' ', 'me', ' ', 'speak', '.', '', '\\n', '', '\\n', 'All', ':', '', '\\n', 'Speak', ',', '', ' ', 'speak', '.', '', '\\n', '', '\\n', 'First', ' ', 'Citizen', ':', '', '\\n', 'You', ' ', 'are', ' ', 'all', ' ', 'resolved', ' ', 'rather', ' ', 'to', ' ', 'die', ' ', 'than', ' ', 'to', ' ', 'famish', '?', '', '\\n', '', '\\n', 'All', ':', '', '\\n', 'Resolved', '.', '', ' ', 'resolved', '.', '', '\\n', '', '\\n', 'First', ' ', 'Citizen', ':', '', '\\n', 'First', ',', '', ' ', 'you', ' ', 'know', ' ']\n"
     ]
    }
   ],
   "source": [
    "tokens = re.split(r'([,.:;?_!\"()\\']|--|\\s)', x)\n",
    "print(tokens[:100])\n",
    "\n",
    "vocabulary = sorted(set(tokens))\n",
    "\n",
    "dictionary = {item:value for value, item in enumerate(vocabulary)}\n",
    "dictionary[\"<|unk|>\"] = len(dictionary)\n",
    "dictionary[\"<|eos|>\"] = len(dictionary)\n",
    "#dictionary[\"<|bos|>\"] = len(dictionary)\n",
    "#dictionary[\"<|pad|>\"] = len(dictionary)"
   ]
  },
  {
   "cell_type": "code",
   "execution_count": 23,
   "id": "1fb43a75-aa70-47be-9591-cd790a3da65d",
   "metadata": {},
   "outputs": [
    {
     "name": "stdout",
     "output_type": "stream",
     "text": [
      "13018\n"
     ]
    }
   ],
   "source": [
    "print(sorted(dictionary.values())[-1])"
   ]
  },
  {
   "cell_type": "code",
   "execution_count": 25,
   "id": "3a7958d9-b15d-447c-bdbc-752f481e4dd4",
   "metadata": {},
   "outputs": [],
   "source": [
    "class SimpleTockenizer:\n",
    "    def __init__(self, dictionary):\n",
    "        self.dictionary = dictionary\n",
    "        self.dictionary_reverse = {value:item for item, value in dictionary.items()}\n",
    "\n",
    "    def encode(self, text):\n",
    "        split = re.split(r'([,.:;?_!\"()\\']|--|\\s)', text)\n",
    "        tokens = list()\n",
    "        for item in split:\n",
    "            try: \n",
    "                tokens.append(self.dictionary[item])\n",
    "            except:\n",
    "                tokens.append(self.dictionary[\"<|unk|>\"])\n",
    "                \n",
    "        return tokens\n",
    "\n",
    "    def decode(self, tokens):\n",
    "        text = \"\".join([self.dictionary_reverse[token] for token in tokens])\n",
    "        return text"
   ]
  },
  {
   "cell_type": "code",
   "execution_count": 31,
   "id": "cb424cff-46a0-4020-b669-c8a95981fe4d",
   "metadata": {},
   "outputs": [
    {
     "name": "stdout",
     "output_type": "stream",
     "text": [
      "[864, 2, 457, 11, 0, 1, 249, 2, 12630, 2]\n",
      "First Citizen:\n",
      "Before we proceed any further, hear me speak.\n",
      "\n",
      "All:\n",
      "Speak, speak.\n",
      "\n",
      "First Citizen:\n",
      "You\n"
     ]
    }
   ],
   "source": [
    "tokenizer = SimpleTockenizer(dictionary)\n",
    "tokens = tokenizer.encode(x)\n",
    "print(tokens[:10])\n",
    "\n",
    "text = tokenizer.decode(tokens)\n",
    "print(text[:100])"
   ]
  },
  {
   "cell_type": "code",
   "execution_count": 36,
   "id": "95d04f67-0d2e-4044-baf7-fba801c393ae",
   "metadata": {},
   "outputs": [
    {
     "name": "stdout",
     "output_type": "stream",
     "text": [
      "[5962, 22307, 25, 198, 8421, 356, 5120, 597, 2252, 11, 3285, 502, 2740, 13, 198, 198, 3237, 25, 198, 5248, 461, 11, 2740, 13, 198, 198, 5962, 22307, 25, 198, 1639, 389, 477, 12939, 2138, 284, 4656, 621, 284, 1145, 680, 30, 198, 198, 3237, 25, 198, 4965, 5634, 13]\n",
      "First Citizen:\n",
      "Before we proceed any further, hear me speak.\n",
      "\n",
      "All:\n",
      "Speak, speak.\n",
      "\n",
      "First Citizen:\n",
      "You are all resolved rather to die than to famish?\n",
      "\n",
      "All:\n",
      "Resolved.\n"
     ]
    }
   ],
   "source": [
    "tiktok = tiktoken.get_encoding(\"gpt2\")\n",
    "integers = tiktok.encode(x, allowed_special={\"<|eos|>\"})\n",
    "print(integers[:50])\n",
    "\n",
    "strings = tiktok.decode(integers[:50])\n",
    "print(strings)"
   ]
  },
  {
   "cell_type": "markdown",
   "id": "f9484282-826e-4090-a6af-45ce07aac2d7",
   "metadata": {},
   "source": [
    "# Model Creation"
   ]
  },
  {
   "cell_type": "code",
   "execution_count": null,
   "id": "c8d747ea-64e5-4703-a683-870bbba7c35b",
   "metadata": {},
   "outputs": [],
   "source": [
    "\n",
    "        "
   ]
  },
  {
   "cell_type": "code",
   "execution_count": null,
   "id": "080d80ed-ca7f-410b-89e3-8417b9b57d8c",
   "metadata": {},
   "outputs": [],
   "source": []
  }
 ],
 "metadata": {
  "kernelspec": {
   "display_name": "Python 3 (ipykernel)",
   "language": "python",
   "name": "python3"
  },
  "language_info": {
   "codemirror_mode": {
    "name": "ipython",
    "version": 3
   },
   "file_extension": ".py",
   "mimetype": "text/x-python",
   "name": "python",
   "nbconvert_exporter": "python",
   "pygments_lexer": "ipython3",
   "version": "3.10.12"
  }
 },
 "nbformat": 4,
 "nbformat_minor": 5
}
