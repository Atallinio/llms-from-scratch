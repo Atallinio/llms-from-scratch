{
 "cells": [
  {
   "cell_type": "markdown",
   "id": "5c1b6619-48a0-4b63-90a8-b2a8d791864c",
   "metadata": {},
   "source": [
    "# Building LLMs from scratch"
   ]
  },
  {
   "cell_type": "code",
   "execution_count": 44,
   "id": "193396d1-f719-4c47-8730-32926253790c",
   "metadata": {},
   "outputs": [],
   "source": [
    "import numpy as np\n",
    "import tensorflow as tf\n",
    "import tensorflow_datasets as tfds\n",
    "from tensorflow import keras\n",
    "import re\n",
    "import tiktoken # Byte Pair Encoding "
   ]
  },
  {
   "cell_type": "markdown",
   "id": "7537487c-2f2c-49fc-9b40-05486019a90e",
   "metadata": {},
   "source": [
    "Load the shakespeare text dataset: contains 100,000 characters!"
   ]
  },
  {
   "cell_type": "code",
   "execution_count": 55,
   "id": "280a135d-4d41-45fb-8787-0b2b10a3d292",
   "metadata": {},
   "outputs": [
    {
     "name": "stdout",
     "output_type": "stream",
     "text": [
      "First Citizen:\n",
      "Before we proceed any further, hear me speak.\n",
      "\n",
      "All:\n",
      "Speak, speak.\n",
      "\n",
      "First Citizen:\n",
      "You\n",
      "\n",
      "length of the entire text file: 1003854\n"
     ]
    }
   ],
   "source": [
    "dataset = tfds.load(name='tiny_shakespeare')\n",
    "\n",
    "train = dataset['train']\n",
    "for text in train:\n",
    "    x = text['text'].numpy().decode('utf-8')\n",
    "print(x[:100])\n",
    "print(f\"\\nlength of the entire text file: {len(x)}\")"
   ]
  },
  {
   "cell_type": "markdown",
   "id": "93a67f9d-e067-4cec-a767-ef67dbbc6e74",
   "metadata": {},
   "source": [
    "## Setting up a custom simple tokenizer \n",
    "Converts normal text into tokens using regex ----> then converts from tokens into token ids using a custom class"
   ]
  },
  {
   "cell_type": "code",
   "execution_count": 46,
   "id": "b3901bed-9d89-4b7e-b0f7-79750a6afba0",
   "metadata": {},
   "outputs": [
    {
     "name": "stdout",
     "output_type": "stream",
     "text": [
      "['First', ' ', 'Citizen', ':', '', '\\n', 'Before', ' ', 'we', ' ', 'proceed', ' ', 'any', ' ', 'further', ',', '', ' ', 'hear', ' ', 'me', ' ', 'speak', '.', '', '\\n', '', '\\n', 'All', ':', '', '\\n', 'Speak', ',', '', ' ', 'speak', '.', '', '\\n', '', '\\n', 'First', ' ', 'Citizen', ':', '', '\\n', 'You', ' ', 'are', ' ', 'all', ' ', 'resolved', ' ', 'rather', ' ', 'to', ' ', 'die', ' ', 'than', ' ', 'to', ' ', 'famish', '?', '', '\\n', '', '\\n', 'All', ':', '', '\\n', 'Resolved', '.', '', ' ', 'resolved', '.', '', '\\n', '', '\\n', 'First', ' ', 'Citizen', ':', '', '\\n', 'First', ',', '', ' ', 'you', ' ', 'know', ' ']\n"
     ]
    }
   ],
   "source": [
    "tokens = re.split(r'([,.:;?_!\"()\\']|--|\\s)', x)\n",
    "print(tokens[:100])\n",
    "\n",
    "vocabulary = sorted(set(tokens))\n",
    "\n",
    "# Create a Dictionary with additional special tokens (\"<|unk|>\", \"<|eos|>\") \n",
    "# for an unkown word or the end of text (incase I train with multiple text sources).\\\n",
    "\n",
    "dictionary = {item:value for value, item in enumerate(vocabulary)}\n",
    "dictionary[\"<|unk|>\"] = len(dictionary)\n",
    "dictionary[\"<|eos|>\"] = len(dictionary)\n",
    "#dictionary[\"<|bos|>\"] = len(dictionary)\n",
    "#dictionary[\"<|pad|>\"] = len(dictionary)"
   ]
  },
  {
   "cell_type": "code",
   "execution_count": 47,
   "id": "3a7958d9-b15d-447c-bdbc-752f481e4dd4",
   "metadata": {},
   "outputs": [],
   "source": [
    "class SimpleTockenizer:\n",
    "    \"\"\"\n",
    "    A simple tokenizer which using a dictionary converts the text into token ids \n",
    "    \"\"\"\n",
    "    def __init__(self, dictionary):\n",
    "        self.dictionary = dictionary\n",
    "        self.dictionary_reverse = {value:item for item, value in dictionary.items()}\n",
    "\n",
    "    def encode(self, text):\n",
    "        split = re.split(r'([,.:;?_!\"()\\']|--|\\s)', text)\n",
    "        tokens = list()\n",
    "        for item in split:\n",
    "            try: \n",
    "                tokens.append(self.dictionary[item])\n",
    "            except:\n",
    "                tokens.append(self.dictionary[\"<|unk|>\"])\n",
    "                \n",
    "        return tokens\n",
    "\n",
    "    def decode(self, tokens):\n",
    "        text = \"\".join([self.dictionary_reverse[token] for token in tokens])\n",
    "        return text"
   ]
  },
  {
   "cell_type": "code",
   "execution_count": 48,
   "id": "cb424cff-46a0-4020-b669-c8a95981fe4d",
   "metadata": {},
   "outputs": [
    {
     "name": "stdout",
     "output_type": "stream",
     "text": [
      "[864, 2, 457, 11, 0, 1, 249, 2, 12630, 2]\n",
      "First Citizen:\n",
      "Before we proceed any further, hear me speak.\n",
      "\n",
      "All:\n",
      "Speak, speak.\n",
      "\n",
      "First Citizen:\n",
      "You\n"
     ]
    }
   ],
   "source": [
    "tokenizer = SimpleTockenizer(dictionary)\n",
    "tokens = tokenizer.encode(x)\n",
    "print(tokens[:10])\n",
    "\n",
    "text = tokenizer.decode(tokens)\n",
    "print(text[:100])"
   ]
  },
  {
   "cell_type": "markdown",
   "id": "8201767f-f8ff-48aa-a1e0-523d66f4290a",
   "metadata": {},
   "source": [
    "## Using the GPT2 tokenizer form the tiktoken library\n",
    "The GPT2 tokenizer uses byte pair encoding which creates tokens for entire words and for sub-word characters"
   ]
  },
  {
   "cell_type": "code",
   "execution_count": 49,
   "id": "95d04f67-0d2e-4044-baf7-fba801c393ae",
   "metadata": {},
   "outputs": [
    {
     "name": "stdout",
     "output_type": "stream",
     "text": [
      "[5962, 22307, 25, 198, 8421, 356, 5120, 597, 2252, 11, 3285, 502, 2740, 13, 198, 198, 3237, 25, 198, 5248, 461, 11, 2740, 13, 198, 198, 5962, 22307, 25, 198, 1639, 389, 477, 12939, 2138, 284, 4656, 621, 284, 1145, 680, 30, 198, 198, 3237, 25, 198, 4965, 5634, 13]\n",
      "First Citizen:\n",
      "Before we proceed any further, hear me speak.\n",
      "\n",
      "All:\n",
      "Speak, speak.\n",
      "\n",
      "First Citizen:\n",
      "You are all resolved rather to die than to famish?\n",
      "\n",
      "All:\n",
      "Resolved.\n"
     ]
    }
   ],
   "source": [
    "tiktok = tiktoken.get_encoding(\"gpt2\")\n",
    "integers = tiktok.encode(x, allowed_special={\"<|eos|>\"})\n",
    "print(integers[:50])\n",
    "\n",
    "strings = tiktok.decode(integers[:50])\n",
    "print(strings)"
   ]
  },
  {
   "cell_type": "markdown",
   "id": "b28b1e22-a909-45fa-ab6b-7f8cabb87fab",
   "metadata": {},
   "source": [
    "## Setting up the input and target values using the Windowing technique"
   ]
  },
  {
   "cell_type": "code",
   "execution_count": 50,
   "id": "bfdb1b27-3a54-4fd7-a55f-f7769dbf4ff6",
   "metadata": {},
   "outputs": [
    {
     "name": "stdout",
     "output_type": "stream",
     "text": [
      "First-------> Citizen\n",
      "First Citizen------->:\n",
      "First Citizen:------->\n",
      "\n",
      "First Citizen:\n",
      "------->Before\n"
     ]
    }
   ],
   "source": [
    "context_size = 4\n",
    "for i in range(1, context_size+1):\n",
    "    inputs = integers[:i]\n",
    "    target = integers[i]\n",
    "    print(tiktok.decode(inputs) + '------->' + tiktok.decode([target]))\n",
    "    "
   ]
  },
  {
   "cell_type": "markdown",
   "id": "51f48df1-f298-4a97-a7cd-b5898ad6218a",
   "metadata": {},
   "source": [
    "## Create a Custom DataLoader to load the Data into TensorFlow"
   ]
  },
  {
   "cell_type": "code",
   "execution_count": 59,
   "id": "cd22a60a-ecf5-4036-8d14-7f43556fff2e",
   "metadata": {},
   "outputs": [],
   "source": [
    "class DataLoader:\n",
    "    \"\"\"\n",
    "    A custom data loader which loads data using the tiktoken tokenizer\n",
    "    into Tensorflow, creating input and target values using the windowing technique\n",
    "    \"\"\"\n",
    "    def __init__(self, text, context_size, max_length):\n",
    "        self.input_ids = []\n",
    "        self.target_ids = []\n",
    "\n",
    "        tokenizer = tiktoken.get_encoding(\"gpt2\")\n",
    "        token_ids = tokenizer.encode(text, allowed_special={\"<|eos|>\"})\n",
    "        \n",
    "        assert max_length // context_size == 0\n",
    "        \n",
    "        for i in range(0, max_length, context_size):\n",
    "            self.input_ids.append(token_ids[i:i+context_size])\n",
    "            self.target_ids.append(token_ids[i+1:i+1+context_size])\n",
    "            \n",
    "        # Convert lists to TensorFlow tensors\n",
    "        self.input_ids = tf.convert_to_tensor(self.input_ids, dtype=tf.int32)\n",
    "        self.target_ids = tf.convert_to_tensor(self.target_ids, dtype=tf.int32)\n",
    "            \n",
    "    def __len__(self):\n",
    "        return len(self.input_ids)\n",
    "        \n",
    "    def __getitem__(self, idx):\n",
    "        return self.input_ids[idx], self.target_ids[idx]\n",
    "    \n",
    "    def load_data(self, batch_size=32, shuffle=False):\n",
    "        dataset = tf.data.Dataset.from_tensor_slices((self.input_ids, self.target_ids)) \n",
    "        # Shuffle the dataset if required\n",
    "        if shuffle:\n",
    "            dataset = dataset.shuffle(buffer_size=buffer_size)\n",
    "\n",
    "        # Batch the dataset\n",
    "        dataset = dataset.batch(batch_size)\n",
    "\n",
    "        # Prefetch the dataset for better performance\n",
    "        dataset = dataset.prefetch(tf.data.experimental.AUTOTUNE)\n",
    "\n",
    "        return dataset"
   ]
  },
  {
   "cell_type": "code",
   "execution_count": 60,
   "id": "419895b1-5bae-4ae6-93aa-58635863bdf4",
   "metadata": {},
   "outputs": [],
   "source": [
    "data = DataLoader(x, 10000, 256)\n",
    "dataset = data.load_data()"
   ]
  },
  {
   "cell_type": "code",
   "execution_count": 62,
   "id": "8457be4a-1967-49d1-8714-72355686f031",
   "metadata": {},
   "outputs": [
    {
     "name": "stdout",
     "output_type": "stream",
     "text": [
      "(<tf.Tensor: shape=(1, 10000), dtype=int32, numpy=array([[ 5962, 22307,    25, ...,  1867,   318,   470]], dtype=int32)>, <tf.Tensor: shape=(1, 10000), dtype=int32, numpy=array([[22307,    25,   198, ...,   318,   470,    30]], dtype=int32)>)\n"
     ]
    }
   ],
   "source": [
    "print(next(iter(dataset)))"
   ]
  },
  {
   "cell_type": "markdown",
   "id": "f9484282-826e-4090-a6af-45ce07aac2d7",
   "metadata": {},
   "source": [
    "# Model Creation"
   ]
  },
  {
   "cell_type": "code",
   "execution_count": null,
   "id": "c8d747ea-64e5-4703-a683-870bbba7c35b",
   "metadata": {},
   "outputs": [],
   "source": [
    "\n",
    "        "
   ]
  },
  {
   "cell_type": "code",
   "execution_count": null,
   "id": "080d80ed-ca7f-410b-89e3-8417b9b57d8c",
   "metadata": {},
   "outputs": [],
   "source": []
  }
 ],
 "metadata": {
  "kernelspec": {
   "display_name": "Python 3 (ipykernel)",
   "language": "python",
   "name": "python3"
  },
  "language_info": {
   "codemirror_mode": {
    "name": "ipython",
    "version": 3
   },
   "file_extension": ".py",
   "mimetype": "text/x-python",
   "name": "python",
   "nbconvert_exporter": "python",
   "pygments_lexer": "ipython3",
   "version": "3.10.12"
  }
 },
 "nbformat": 4,
 "nbformat_minor": 5
}
