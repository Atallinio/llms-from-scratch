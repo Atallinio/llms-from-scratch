import numpy as np
import tensorflow as tf
import tensorflow_datasets as tfds


dataset = tfds.load(name='tiny_shakespeare')


train = dataset['train']
for text in train:
    x = text['text'].numpy().decode('utf-8')
len(x)


# train split includes vocabulary for other split
vocabulary = sorted(set(x))
print(vocabulary)



