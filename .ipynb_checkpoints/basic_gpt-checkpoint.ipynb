{
 "cells": [
  {
   "cell_type": "markdown",
   "id": "5c1b6619-48a0-4b63-90a8-b2a8d791864c",
   "metadata": {},
   "source": [
    "# Building LLMs from scratch"
   ]
  },
  {
   "cell_type": "code",
   "execution_count": 44,
   "id": "193396d1-f719-4c47-8730-32926253790c",
   "metadata": {},
   "outputs": [],
   "source": [
    "import numpy as np\n",
    "import tensorflow as tf\n",
    "import tensorflow_datasets as tfds\n",
    "from tensorflow import keras\n",
    "import keras.backend as K\n",
    "import re\n",
    "import tiktoken # Byte Pair Encoding "
   ]
  },
  {
   "cell_type": "markdown",
   "id": "7537487c-2f2c-49fc-9b40-05486019a90e",
   "metadata": {},
   "source": [
    "Load the shakespeare text dataset: contains 100,000 characters!"
   ]
  },
  {
   "cell_type": "code",
   "execution_count": 55,
   "id": "280a135d-4d41-45fb-8787-0b2b10a3d292",
   "metadata": {},
   "outputs": [
    {
     "name": "stdout",
     "output_type": "stream",
     "text": [
      "First Citizen:\n",
      "Before we proceed any further, hear me speak.\n",
      "\n",
      "All:\n",
      "Speak, speak.\n",
      "\n",
      "First Citizen:\n",
      "You\n",
      "\n",
      "length of the entire text file: 1003854\n"
     ]
    }
   ],
   "source": [
    "dataset = tfds.load(name='tiny_shakespeare')\n",
    "\n",
    "train = dataset['train']\n",
    "for text in train:\n",
    "    x = text['text'].numpy().decode('utf-8')\n",
    "print(x[:100])\n",
    "print(f\"\\nlength of the entire text file: {len(x)}\")"
   ]
  },
  {
   "cell_type": "markdown",
   "id": "93a67f9d-e067-4cec-a767-ef67dbbc6e74",
   "metadata": {},
   "source": [
    "## Setting up a custom simple tokenizer \n",
    "Converts normal text into tokens using regex ----> then converts from tokens into token ids using a custom class"
   ]
  },
  {
   "cell_type": "code",
   "execution_count": 46,
   "id": "b3901bed-9d89-4b7e-b0f7-79750a6afba0",
   "metadata": {},
   "outputs": [
    {
     "name": "stdout",
     "output_type": "stream",
     "text": [
      "['First', ' ', 'Citizen', ':', '', '\\n', 'Before', ' ', 'we', ' ', 'proceed', ' ', 'any', ' ', 'further', ',', '', ' ', 'hear', ' ', 'me', ' ', 'speak', '.', '', '\\n', '', '\\n', 'All', ':', '', '\\n', 'Speak', ',', '', ' ', 'speak', '.', '', '\\n', '', '\\n', 'First', ' ', 'Citizen', ':', '', '\\n', 'You', ' ', 'are', ' ', 'all', ' ', 'resolved', ' ', 'rather', ' ', 'to', ' ', 'die', ' ', 'than', ' ', 'to', ' ', 'famish', '?', '', '\\n', '', '\\n', 'All', ':', '', '\\n', 'Resolved', '.', '', ' ', 'resolved', '.', '', '\\n', '', '\\n', 'First', ' ', 'Citizen', ':', '', '\\n', 'First', ',', '', ' ', 'you', ' ', 'know', ' ']\n"
     ]
    }
   ],
   "source": [
    "tokens = re.split(r'([,.:;?_!\"()\\']|--|\\s)', x)\n",
    "print(tokens[:100])\n",
    "\n",
    "vocabulary = sorted(set(tokens))\n",
    "\n",
    "# Create a Dictionary with additional special tokens (\"<|unk|>\", \"<|eos|>\") \n",
    "# for an unkown word or the end of text (incase I train with multiple text sources).\\\n",
    "\n",
    "dictionary = {item:value for value, item in enumerate(vocabulary)}\n",
    "dictionary[\"<|unk|>\"] = len(dictionary)\n",
    "dictionary[\"<|eos|>\"] = len(dictionary)\n",
    "#dictionary[\"<|bos|>\"] = len(dictionary)\n",
    "#dictionary[\"<|pad|>\"] = len(dictionary)"
   ]
  },
  {
   "cell_type": "code",
   "execution_count": 47,
   "id": "3a7958d9-b15d-447c-bdbc-752f481e4dd4",
   "metadata": {},
   "outputs": [],
   "source": [
    "class SimpleTockenizer:\n",
    "    \"\"\"\n",
    "    A simple tokenizer which using a dictionary converts the text into token ids \n",
    "    \"\"\"\n",
    "    def __init__(self, dictionary):\n",
    "        self.dictionary = dictionary\n",
    "        self.dictionary_reverse = {value:item for item, value in dictionary.items()}\n",
    "\n",
    "    def encode(self, text):\n",
    "        split = re.split(r'([,.:;?_!\"()\\']|--|\\s)', text)\n",
    "        tokens = list()\n",
    "        for item in split:\n",
    "            try: \n",
    "                tokens.append(self.dictionary[item])\n",
    "            except:\n",
    "                tokens.append(self.dictionary[\"<|unk|>\"])\n",
    "                \n",
    "        return tokens\n",
    "\n",
    "    def decode(self, tokens):\n",
    "        text = \"\".join([self.dictionary_reverse[token] for token in tokens])\n",
    "        return text"
   ]
  },
  {
   "cell_type": "code",
   "execution_count": 48,
   "id": "cb424cff-46a0-4020-b669-c8a95981fe4d",
   "metadata": {},
   "outputs": [
    {
     "name": "stdout",
     "output_type": "stream",
     "text": [
      "[864, 2, 457, 11, 0, 1, 249, 2, 12630, 2]\n",
      "First Citizen:\n",
      "Before we proceed any further, hear me speak.\n",
      "\n",
      "All:\n",
      "Speak, speak.\n",
      "\n",
      "First Citizen:\n",
      "You\n"
     ]
    }
   ],
   "source": [
    "tokenizer = SimpleTockenizer(dictionary)\n",
    "tokens = tokenizer.encode(x)\n",
    "print(tokens[:10])\n",
    "\n",
    "text = tokenizer.decode(tokens)\n",
    "print(text[:100])"
   ]
  },
  {
   "cell_type": "markdown",
   "id": "8201767f-f8ff-48aa-a1e0-523d66f4290a",
   "metadata": {},
   "source": [
    "## Using the GPT2 tokenizer form the tiktoken library\n",
    "The GPT2 tokenizer uses byte pair encoding which creates tokens for entire words and for sub-word characters"
   ]
  },
  {
   "cell_type": "code",
   "execution_count": 49,
   "id": "95d04f67-0d2e-4044-baf7-fba801c393ae",
   "metadata": {},
   "outputs": [
    {
     "name": "stdout",
     "output_type": "stream",
     "text": [
      "[5962, 22307, 25, 198, 8421, 356, 5120, 597, 2252, 11, 3285, 502, 2740, 13, 198, 198, 3237, 25, 198, 5248, 461, 11, 2740, 13, 198, 198, 5962, 22307, 25, 198, 1639, 389, 477, 12939, 2138, 284, 4656, 621, 284, 1145, 680, 30, 198, 198, 3237, 25, 198, 4965, 5634, 13]\n",
      "First Citizen:\n",
      "Before we proceed any further, hear me speak.\n",
      "\n",
      "All:\n",
      "Speak, speak.\n",
      "\n",
      "First Citizen:\n",
      "You are all resolved rather to die than to famish?\n",
      "\n",
      "All:\n",
      "Resolved.\n"
     ]
    }
   ],
   "source": [
    "tiktok = tiktoken.get_encoding(\"gpt2\")\n",
    "integers = tiktok.encode(x, allowed_special={\"<|eos|>\"})\n",
    "print(integers[:50])\n",
    "\n",
    "strings = tiktok.decode(integers[:50])\n",
    "print(strings)"
   ]
  },
  {
   "cell_type": "markdown",
   "id": "b28b1e22-a909-45fa-ab6b-7f8cabb87fab",
   "metadata": {},
   "source": [
    "## Setting up the input and target values using the Windowing technique"
   ]
  },
  {
   "cell_type": "code",
   "execution_count": 50,
   "id": "bfdb1b27-3a54-4fd7-a55f-f7769dbf4ff6",
   "metadata": {},
   "outputs": [
    {
     "name": "stdout",
     "output_type": "stream",
     "text": [
      "First-------> Citizen\n",
      "First Citizen------->:\n",
      "First Citizen:------->\n",
      "\n",
      "First Citizen:\n",
      "------->Before\n"
     ]
    }
   ],
   "source": [
    "context_size = 4\n",
    "for i in range(1, context_size+1):\n",
    "    inputs = integers[:i]\n",
    "    target = integers[i]\n",
    "    print(tiktok.decode(inputs) + '------->' + tiktok.decode([target]))\n",
    "    "
   ]
  },
  {
   "cell_type": "markdown",
   "id": "51f48df1-f298-4a97-a7cd-b5898ad6218a",
   "metadata": {},
   "source": [
    "## Create a Custom DataLoader to load the Data into TensorFlow"
   ]
  },
  {
   "cell_type": "code",
   "execution_count": 85,
   "id": "cd22a60a-ecf5-4036-8d14-7f43556fff2e",
   "metadata": {},
   "outputs": [],
   "source": [
    "class DataLoader:\n",
    "    \"\"\"\n",
    "    A custom data loader which loads data using the tiktoken tokenizer\n",
    "    into Tensorflow, creating input and target values using the windowing technique\n",
    "    \"\"\"\n",
    "    def __init__(self, text, stride, max_length):\n",
    "        self.input_ids = []\n",
    "        self.target_ids = []\n",
    "\n",
    "        tokenizer = tiktoken.get_encoding(\"gpt2\")\n",
    "        token_ids = tokenizer.encode(text, allowed_special={\"<|eos|>\"})\n",
    "        \n",
    "        for i in range(0, len(token_ids) - max_length, stride):\n",
    "            self.input_ids.append(token_ids[i:i+max_length])\n",
    "            self.target_ids.append(token_ids[i+1:i+1+max_length])\n",
    "            \n",
    "        # Convert lists to TensorFlow tensors\n",
    "        self.input_ids = tf.convert_to_tensor(self.input_ids, dtype=tf.int32)\n",
    "        self.target_ids = tf.convert_to_tensor(self.target_ids, dtype=tf.int32)\n",
    "            \n",
    "    def __len__(self):\n",
    "        return len(self.input_ids)\n",
    "        \n",
    "    def __getitem__(self, idx):\n",
    "        return self.input_ids[idx], self.target_ids[idx]\n",
    "    \n",
    "    def load_data(self, batch_size=8, shuffle=False):\n",
    "        dataset = tf.data.Dataset.from_tensor_slices((self.input_ids, self.target_ids)) \n",
    "        # Shuffle the dataset if required\n",
    "        if shuffle:\n",
    "            dataset = dataset.shuffle(buffer_size=buffer_size)\n",
    "\n",
    "        # Batch the dataset\n",
    "        dataset = dataset.batch(batch_size)\n",
    "\n",
    "        # Prefetch the dataset for better performance\n",
    "        dataset = dataset.prefetch(tf.data.experimental.AUTOTUNE)\n",
    "\n",
    "        return dataset"
   ]
  },
  {
   "cell_type": "code",
   "execution_count": 90,
   "id": "419895b1-5bae-4ae6-93aa-58635863bdf4",
   "metadata": {},
   "outputs": [],
   "source": [
    "data = DataLoader(x, 2, 10)\n",
    "dataset = data.load_data(batch_size=1)"
   ]
  },
  {
   "cell_type": "code",
   "execution_count": 91,
   "id": "8457be4a-1967-49d1-8714-72355686f031",
   "metadata": {},
   "outputs": [
    {
     "name": "stdout",
     "output_type": "stream",
     "text": [
      "(<tf.Tensor: shape=(1, 10), dtype=int32, numpy=\n",
      "array([[ 5962, 22307,    25,   198,  8421,   356,  5120,   597,  2252,\n",
      "           11]], dtype=int32)>, <tf.Tensor: shape=(1, 10), dtype=int32, numpy=\n",
      "array([[22307,    25,   198,  8421,   356,  5120,   597,  2252,    11,\n",
      "         3285]], dtype=int32)>)\n"
     ]
    }
   ],
   "source": [
    "print(next(iter(dataset)))"
   ]
  },
  {
   "cell_type": "markdown",
   "id": "f9484282-826e-4090-a6af-45ce07aac2d7",
   "metadata": {},
   "source": [
    "## Creating a token embedding "
   ]
  },
  {
   "cell_type": "code",
   "execution_count": 108,
   "id": "b65a24aa-dc01-483d-bb6d-f1939060f518",
   "metadata": {},
   "outputs": [],
   "source": [
    "max_length = 100\n",
    "stride = 4\n",
    "batch_size = 8\n",
    "\n",
    "data = DataLoader(x, stride, max_length)\n",
    "dataset = data.load_data(batch_size)"
   ]
  },
  {
   "cell_type": "code",
   "execution_count": 113,
   "id": "762f1b7e-cdf5-4119-98cb-0238ba7acf15",
   "metadata": {},
   "outputs": [
    {
     "name": "stdout",
     "output_type": "stream",
     "text": [
      "tf.Tensor(\n",
      "[[-0.04819577  0.03086002  0.04165006 ... -0.03921388  0.03153236\n",
      "  -0.02050692]\n",
      " [-0.03224732  0.00572438 -0.0472178  ...  0.02273817  0.01425034\n",
      "  -0.03599213]\n",
      " [ 0.0080161   0.0394375  -0.04151511 ...  0.00200493  0.04924547\n",
      "   0.03099601]\n",
      " ...\n",
      " [ 0.01490137  0.0039796  -0.01900916 ... -0.04527375  0.01180929\n",
      "  -0.02467388]\n",
      " [ 0.04875417 -0.00100584  0.03920699 ...  0.02465645  0.02856841\n",
      "  -0.00609944]\n",
      " [ 0.04975339  0.03046734 -0.04690708 ...  0.02372551 -0.00453681\n",
      "   0.02626635]], shape=(100, 256), dtype=float32)\n"
     ]
    }
   ],
   "source": [
    "vocab_size = 50257\n",
    "output_dim = 256\n",
    "context_len = max_length\n",
    "\n",
    "token_embedding = keras.layers.Embedding(vocab_size, output_dim)(next(iter(dataset))[0])\n",
    "# print(embedding(next(iter(dataset))[0].numpy()))\n",
    "\n",
    "\n",
    "pos_idx = tf.range(context_len)\n",
    "pos_embedding = keras.layers.Embedding(context_len, output_dim)(pos_idx)\n",
    "print(pos_embedding)\n",
    "\n",
    "input_embedding = token_embedding + pos_embedding"
   ]
  },
  {
   "cell_type": "markdown",
   "id": "82519c58-4348-4be2-ae9b-8898ae9527d3",
   "metadata": {},
   "source": [
    "## Creating a Simple Self Attention Layer"
   ]
  },
  {
   "cell_type": "code",
   "execution_count": 117,
   "id": "8e5da636-d4c7-4e3a-b01c-0ebbff144a5a",
   "metadata": {},
   "outputs": [],
   "source": [
    "def Attention(inputs):\n",
    "    \"\"\"\n",
    "    A very simple implementation of the Self Attention Layer\n",
    "    \"\"\"\n",
    "\n",
    "    # 1. Calculate the relationship between each input and all other inputs in the sequence\n",
    "    attention_scores = tf.matmul(inputs, tf.transpose(inputs))\n",
    "\n",
    "    # 2. Normalize the attention scores for better learning (better for gradient descent)\n",
    "    norm_as = keras.layers.Softmax()(attention_scores)\n",
    "\n",
    "    # 3. general the final context vector by multiplying each attention score with its corresponding input and suming them up\n",
    "    final_context_vec = tf.matmul(norm_as, inputs)\n",
    "\n",
    "    return final_context_vec\n"
   ]
  },
  {
   "cell_type": "code",
   "execution_count": 119,
   "id": "4911613a-b988-40ab-84d7-8e8edc7bd9b2",
   "metadata": {},
   "outputs": [
    {
     "data": {
      "text/plain": [
       "TensorShape([8, 100, 256])"
      ]
     },
     "execution_count": 119,
     "metadata": {},
     "output_type": "execute_result"
    }
   ],
   "source": [
    "input_embedding.shape\n"
   ]
  },
  {
   "cell_type": "code",
   "execution_count": 2,
   "id": "2cb98eb9-9f91-44cd-966b-bbf05f1740aa",
   "metadata": {},
   "outputs": [
    {
     "ename": "SyntaxError",
     "evalue": "incomplete input (2688713549.py, line 11)",
     "output_type": "error",
     "traceback": [
      "\u001b[0;36m  Cell \u001b[0;32mIn[2], line 11\u001b[0;36m\u001b[0m\n\u001b[0;31m    def call(self, inputs):\u001b[0m\n\u001b[0m                           ^\u001b[0m\n\u001b[0;31mSyntaxError\u001b[0m\u001b[0;31m:\u001b[0m incomplete input\n"
     ]
    }
   ],
   "source": [
    "class SelfAttention(keras.Layer):\n",
    "    def __init__(self, dim):\n",
    "        super().__init__()\n",
    "        self.dim = dim\n",
    "\n",
    "    def build(self, input_shape):\n",
    "        self.Wq = self.add_weight((input_shape[-1], self.dim), name=\"Wq\")\n",
    "        self.Wk = self.add_weight((input_shape[-1], self.dim), name=\"Wk\")\n",
    "        self.Wv = self.add_weight((input_shape[-1], self.dim), name=\"Wv\")\n",
    "\n",
    "    def call(self, inputs):\n",
    "        self.keys = K.dot(self.Wk, inputs)\n",
    "        self.queries = K.dot(self.Wq, inputs)\n",
    "        self.values = K.dot(self.Wv, inputs)\n",
    "\n",
    "        self.attention_score = K.dot(K.T)"
   ]
  },
  {
   "cell_type": "code",
   "execution_count": null,
   "id": "4e371915-bd4e-499a-bc28-2c7c43e88232",
   "metadata": {},
   "outputs": [],
   "source": []
  }
 ],
 "metadata": {
  "kernelspec": {
   "display_name": "Python 3 (ipykernel)",
   "language": "python",
   "name": "python3"
  },
  "language_info": {
   "codemirror_mode": {
    "name": "ipython",
    "version": 3
   },
   "file_extension": ".py",
   "mimetype": "text/x-python",
   "name": "python",
   "nbconvert_exporter": "python",
   "pygments_lexer": "ipython3",
   "version": "3.10.12"
  }
 },
 "nbformat": 4,
 "nbformat_minor": 5
}
